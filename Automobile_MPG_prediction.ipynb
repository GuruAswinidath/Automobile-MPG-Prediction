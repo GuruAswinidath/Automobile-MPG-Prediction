{
  "cells": [
    {
      "cell_type": "code",
      "execution_count": 32,
      "metadata": {
        "colab": {
          "base_uri": "https://localhost:8080/",
          "height": 235
        },
        "id": "XlcLkiYjqtVI",
        "outputId": "98060cf2-dca3-4b41-fbb2-ff92a4e4b330"
      },
      "outputs": [],
      "source": [
        "import numpy as np\n",
        "import pandas as pd\n",
        "import seaborn as sns    #plot the graph of the data set\n",
        "import matplotlib.pyplot as plt   # for the graph plotting (shows the relationship between the datas)\n",
        "import os\n",
        "import re\n",
        "from sklearn.preprocessing import StandardScaler     #for reading and writing\n",
        "from sklearn.model_selection import train_test_split # split the data set in to the train and the test data\n",
        "import warnings\n",
        "#warnings.filterwarning('ignore')\n",
        "from sklearn.linear_model import LinearRegression\n",
        "from sklearn.tree import DecisionTreeRegressor\n",
        "from sklearn.ensemble import RandomForestRegressor\n",
        "#importing the Necessary dependencies \n",
        "from mpl_toolkits.mplot3d import Axes3D\n",
        "\n",
        "from sklearn.preprocessing import LabelEncoder\n",
        "from sklearn import metrics  # transforming the data in to the metrics"
      ]
    },
    {
      "cell_type": "code",
      "execution_count": 33,
      "metadata": {
        "id": "Fwr0khcAsBa6"
      },
      "outputs": [],
      "source": [
        "#reading the CVS file using pandas as pd\n",
        "data = pd.read_csv('C:\\\\Users\\\\C Gangadhara\\\\OneDrive\\\\Documents\\\\Desktop\\\\Amrita college\\\\Mathematics 2\\\\Automobile_MPG_Prediction\\\\auto-mpg.csv')"
      ]
    },
    {
      "cell_type": "code",
      "execution_count": 34,
      "metadata": {
        "colab": {
          "base_uri": "https://localhost:8080/",
          "height": 424
        },
        "id": "5K8q_Kk6sjC-",
        "outputId": "9938ae6b-a473-4889-f5c4-32c7e35d5d7b"
      },
      "outputs": [
        {
          "data": {
            "text/html": [
              "<div>\n",
              "<style scoped>\n",
              "    .dataframe tbody tr th:only-of-type {\n",
              "        vertical-align: middle;\n",
              "    }\n",
              "\n",
              "    .dataframe tbody tr th {\n",
              "        vertical-align: top;\n",
              "    }\n",
              "\n",
              "    .dataframe thead th {\n",
              "        text-align: right;\n",
              "    }\n",
              "</style>\n",
              "<table border=\"1\" class=\"dataframe\">\n",
              "  <thead>\n",
              "    <tr style=\"text-align: right;\">\n",
              "      <th></th>\n",
              "      <th>mpg</th>\n",
              "      <th>cylinders</th>\n",
              "      <th>displacement</th>\n",
              "      <th>horsepower</th>\n",
              "      <th>weight</th>\n",
              "      <th>acceleration</th>\n",
              "      <th>model year</th>\n",
              "      <th>origin</th>\n",
              "      <th>car name</th>\n",
              "    </tr>\n",
              "  </thead>\n",
              "  <tbody>\n",
              "    <tr>\n",
              "      <th>0</th>\n",
              "      <td>18.0</td>\n",
              "      <td>8</td>\n",
              "      <td>307.0</td>\n",
              "      <td>130</td>\n",
              "      <td>3504</td>\n",
              "      <td>12.0</td>\n",
              "      <td>70</td>\n",
              "      <td>1</td>\n",
              "      <td>chevrolet chevelle malibu</td>\n",
              "    </tr>\n",
              "    <tr>\n",
              "      <th>1</th>\n",
              "      <td>15.0</td>\n",
              "      <td>8</td>\n",
              "      <td>350.0</td>\n",
              "      <td>165</td>\n",
              "      <td>3693</td>\n",
              "      <td>11.5</td>\n",
              "      <td>70</td>\n",
              "      <td>1</td>\n",
              "      <td>buick skylark 320</td>\n",
              "    </tr>\n",
              "    <tr>\n",
              "      <th>2</th>\n",
              "      <td>18.0</td>\n",
              "      <td>8</td>\n",
              "      <td>318.0</td>\n",
              "      <td>150</td>\n",
              "      <td>3436</td>\n",
              "      <td>11.0</td>\n",
              "      <td>70</td>\n",
              "      <td>1</td>\n",
              "      <td>plymouth satellite</td>\n",
              "    </tr>\n",
              "    <tr>\n",
              "      <th>3</th>\n",
              "      <td>16.0</td>\n",
              "      <td>8</td>\n",
              "      <td>304.0</td>\n",
              "      <td>150</td>\n",
              "      <td>3433</td>\n",
              "      <td>12.0</td>\n",
              "      <td>70</td>\n",
              "      <td>1</td>\n",
              "      <td>amc rebel sst</td>\n",
              "    </tr>\n",
              "    <tr>\n",
              "      <th>4</th>\n",
              "      <td>17.0</td>\n",
              "      <td>8</td>\n",
              "      <td>302.0</td>\n",
              "      <td>140</td>\n",
              "      <td>3449</td>\n",
              "      <td>10.5</td>\n",
              "      <td>70</td>\n",
              "      <td>1</td>\n",
              "      <td>ford torino</td>\n",
              "    </tr>\n",
              "    <tr>\n",
              "      <th>...</th>\n",
              "      <td>...</td>\n",
              "      <td>...</td>\n",
              "      <td>...</td>\n",
              "      <td>...</td>\n",
              "      <td>...</td>\n",
              "      <td>...</td>\n",
              "      <td>...</td>\n",
              "      <td>...</td>\n",
              "      <td>...</td>\n",
              "    </tr>\n",
              "    <tr>\n",
              "      <th>393</th>\n",
              "      <td>27.0</td>\n",
              "      <td>4</td>\n",
              "      <td>140.0</td>\n",
              "      <td>86</td>\n",
              "      <td>2790</td>\n",
              "      <td>15.6</td>\n",
              "      <td>82</td>\n",
              "      <td>1</td>\n",
              "      <td>ford mustang gl</td>\n",
              "    </tr>\n",
              "    <tr>\n",
              "      <th>394</th>\n",
              "      <td>44.0</td>\n",
              "      <td>4</td>\n",
              "      <td>97.0</td>\n",
              "      <td>52</td>\n",
              "      <td>2130</td>\n",
              "      <td>24.6</td>\n",
              "      <td>82</td>\n",
              "      <td>2</td>\n",
              "      <td>vw pickup</td>\n",
              "    </tr>\n",
              "    <tr>\n",
              "      <th>395</th>\n",
              "      <td>32.0</td>\n",
              "      <td>4</td>\n",
              "      <td>135.0</td>\n",
              "      <td>84</td>\n",
              "      <td>2295</td>\n",
              "      <td>11.6</td>\n",
              "      <td>82</td>\n",
              "      <td>1</td>\n",
              "      <td>dodge rampage</td>\n",
              "    </tr>\n",
              "    <tr>\n",
              "      <th>396</th>\n",
              "      <td>28.0</td>\n",
              "      <td>4</td>\n",
              "      <td>120.0</td>\n",
              "      <td>79</td>\n",
              "      <td>2625</td>\n",
              "      <td>18.6</td>\n",
              "      <td>82</td>\n",
              "      <td>1</td>\n",
              "      <td>ford ranger</td>\n",
              "    </tr>\n",
              "    <tr>\n",
              "      <th>397</th>\n",
              "      <td>31.0</td>\n",
              "      <td>4</td>\n",
              "      <td>119.0</td>\n",
              "      <td>82</td>\n",
              "      <td>2720</td>\n",
              "      <td>19.4</td>\n",
              "      <td>82</td>\n",
              "      <td>1</td>\n",
              "      <td>chevy s-10</td>\n",
              "    </tr>\n",
              "  </tbody>\n",
              "</table>\n",
              "<p>398 rows × 9 columns</p>\n",
              "</div>"
            ],
            "text/plain": [
              "      mpg  cylinders  displacement horsepower  weight  acceleration  \\\n",
              "0    18.0          8         307.0        130    3504          12.0   \n",
              "1    15.0          8         350.0        165    3693          11.5   \n",
              "2    18.0          8         318.0        150    3436          11.0   \n",
              "3    16.0          8         304.0        150    3433          12.0   \n",
              "4    17.0          8         302.0        140    3449          10.5   \n",
              "..    ...        ...           ...        ...     ...           ...   \n",
              "393  27.0          4         140.0         86    2790          15.6   \n",
              "394  44.0          4          97.0         52    2130          24.6   \n",
              "395  32.0          4         135.0         84    2295          11.6   \n",
              "396  28.0          4         120.0         79    2625          18.6   \n",
              "397  31.0          4         119.0         82    2720          19.4   \n",
              "\n",
              "     model year  origin                   car name  \n",
              "0            70       1  chevrolet chevelle malibu  \n",
              "1            70       1          buick skylark 320  \n",
              "2            70       1         plymouth satellite  \n",
              "3            70       1              amc rebel sst  \n",
              "4            70       1                ford torino  \n",
              "..          ...     ...                        ...  \n",
              "393          82       1            ford mustang gl  \n",
              "394          82       2                  vw pickup  \n",
              "395          82       1              dodge rampage  \n",
              "396          82       1                ford ranger  \n",
              "397          82       1                 chevy s-10  \n",
              "\n",
              "[398 rows x 9 columns]"
            ]
          },
          "execution_count": 34,
          "metadata": {},
          "output_type": "execute_result"
        }
      ],
      "source": [
        "data.head(400)  # head is used to print number of rows"
      ]
    },
    {
      "cell_type": "code",
      "execution_count": 35,
      "metadata": {
        "colab": {
          "base_uri": "https://localhost:8080/",
          "height": 1000
        },
        "id": "Oz-84He6i88n",
        "outputId": "d1a3c44e-beda-4c47-e3bd-768517c0c85c"
      },
      "outputs": [
        {
          "data": {
            "text/plain": [
              "<seaborn.axisgrid.FacetGrid at 0x1409321e680>"
            ]
          },
          "execution_count": 35,
          "metadata": {},
          "output_type": "execute_result"
        },
        {
          "data": {
            "image/png": "[encoded data removed]",
            "text/plain": [
              "<Figure size 500x500 with 1 Axes>"
            ]
          },
          "metadata": {},
          "output_type": "display_data"
        },
        {
          "data": {
            "image/png": "[encoded data removed]",
            "text/plain": [
              "<Figure size 500x500 with 1 Axes>"
            ]
          },
          "metadata": {},
          "output_type": "display_data"
        },
        {
          "data": {
            "image/png": "[encoded data removed]",
            "text/plain": [
              "<Figure size 500x500 with 1 Axes>"
            ]
          },
          "metadata": {},
          "output_type": "display_data"
        },
        {
          "data": {
            "image/png": "[encoded data removed]",
            "text/plain": [
              "<Figure size 500x500 with 1 Axes>"
            ]
          },
          "metadata": {},
          "output_type": "display_data"
        },
        {
          "data": {
            "image/png": "[encoded data removed]",
            "text/plain": [
              "<Figure size 500x500 with 1 Axes>"
            ]
          },
          "metadata": {},
          "output_type": "display_data"
        },
        {
          "data": {
            "image/png": "[encoded data removed]",
            "text/plain": [
              "<Figure size 500x500 with 1 Axes>"
            ]
          },
          "metadata": {},
          "output_type": "display_data"
        }
      ],
      "source": [
        "sns.displot(data['displacement'])\n",
        "sns.displot(data['mpg'])\n",
        "sns.displot(data['acceleration'])\n",
        "sns.displot(data['cylinders'])\n",
        "sns.displot(data['horsepower'])\n",
        "sns.displot(data['weight'])     #ploting the graph of the given data"
      ]
    },
    {
      "cell_type": "code",
      "execution_count": 36,
      "metadata": {
        "colab": {
          "base_uri": "https://localhost:8080/"
        },
        "id": "shY-DHYJ_Pgn",
        "outputId": "5107b5f4-e9fe-4cf6-e939-a07c271f3365"
      },
      "outputs": [
        {
          "data": {
            "text/plain": [
              "(398, 9)"
            ]
          },
          "execution_count": 36,
          "metadata": {},
          "output_type": "execute_result"
        }
      ],
      "source": [
        "data.shape  #It prints the dimensions of the dataset"
      ]
    },
    {
      "cell_type": "code",
      "execution_count": 37,
      "metadata": {
        "colab": {
          "base_uri": "https://localhost:8080/"
        },
        "id": "_2CgwrFoHNiU",
        "outputId": "fecf8748-0cc4-40af-bb1f-cd48b52ca836"
      },
      "outputs": [
        {
          "data": {
            "text/plain": [
              "Index(['mpg', 'cylinders', 'displacement', 'horsepower', 'weight',\n",
              "       'acceleration', 'model year', 'origin', 'car name'],\n",
              "      dtype='object')"
            ]
          },
          "execution_count": 37,
          "metadata": {},
          "output_type": "execute_result"
        }
      ],
      "source": [
        "data.columns   #It prints the names of the columns"
      ]
    },
    {
      "cell_type": "code",
      "execution_count": 38,
      "metadata": {
        "colab": {
          "base_uri": "https://localhost:8080/"
        },
        "id": "bwtyysA1Hc7b",
        "outputId": "69d3d987-f605-4fb8-c2ea-033e7a02ce9c"
      },
      "outputs": [
        {
          "data": {
            "text/plain": [
              "ford pinto             6\n",
              "toyota corolla         5\n",
              "amc matador            5\n",
              "ford maverick          5\n",
              "chevrolet chevette     4\n",
              "                      ..\n",
              "chevrolet monza 2+2    1\n",
              "ford mustang ii        1\n",
              "pontiac astro          1\n",
              "amc pacer              1\n",
              "chevy s-10             1\n",
              "Name: car name, Length: 305, dtype: int64"
            ]
          },
          "execution_count": 38,
          "metadata": {},
          "output_type": "execute_result"
        }
      ],
      "source": [
        "data['car name'].value_counts() # list of car names repreted"
      ]
    },
    {
      "cell_type": "code",
      "execution_count": 39,
      "metadata": {
        "colab": {
          "base_uri": "https://localhost:8080/"
        },
        "id": "fH8QlM01Hqel",
        "outputId": "1a5c6dbe-9dd5-4699-898d-291a684c309c"
      },
      "outputs": [
        {
          "data": {
            "text/plain": [
              "array(['chevrolet chevelle malibu', 'buick skylark 320',\n",
              "       'plymouth satellite', 'amc rebel sst', 'ford torino',\n",
              "       'ford galaxie 500', 'chevrolet impala', 'plymouth fury iii',\n",
              "       'pontiac catalina', 'amc ambassador dpl', 'dodge challenger se',\n",
              "       \"plymouth 'cuda 340\", 'chevrolet monte carlo',\n",
              "       'buick estate wagon (sw)', 'toyota corona mark ii',\n",
              "       'plymouth duster', 'amc hornet', 'ford maverick', 'datsun pl510',\n",
              "       'volkswagen 1131 deluxe sedan', 'peugeot 504', 'audi 100 ls',\n",
              "       'saab 99e', 'bmw 2002', 'amc gremlin', 'ford f250', 'chevy c20',\n",
              "       'dodge d200', 'hi 1200d', 'chevrolet vega 2300', 'toyota corona',\n",
              "       'ford pinto', 'plymouth satellite custom', 'ford torino 500',\n",
              "       'amc matador', 'pontiac catalina brougham', 'dodge monaco (sw)',\n",
              "       'ford country squire (sw)', 'pontiac safari (sw)',\n",
              "       'amc hornet sportabout (sw)', 'chevrolet vega (sw)',\n",
              "       'pontiac firebird', 'ford mustang', 'mercury capri 2000',\n",
              "       'opel 1900', 'peugeot 304', 'fiat 124b', 'toyota corolla 1200',\n",
              "       'datsun 1200', 'volkswagen model 111', 'plymouth cricket',\n",
              "       'toyota corona hardtop', 'dodge colt hardtop', 'volkswagen type 3',\n",
              "       'chevrolet vega', 'ford pinto runabout', 'amc ambassador sst',\n",
              "       'mercury marquis', 'buick lesabre custom',\n",
              "       'oldsmobile delta 88 royale', 'chrysler newport royal',\n",
              "       'mazda rx2 coupe', 'amc matador (sw)',\n",
              "       'chevrolet chevelle concours (sw)', 'ford gran torino (sw)',\n",
              "       'plymouth satellite custom (sw)', 'volvo 145e (sw)',\n",
              "       'volkswagen 411 (sw)', 'peugeot 504 (sw)', 'renault 12 (sw)',\n",
              "       'ford pinto (sw)', 'datsun 510 (sw)',\n",
              "       'toyouta corona mark ii (sw)', 'dodge colt (sw)',\n",
              "       'toyota corolla 1600 (sw)', 'buick century 350',\n",
              "       'chevrolet malibu', 'ford gran torino', 'dodge coronet custom',\n",
              "       'mercury marquis brougham', 'chevrolet caprice classic',\n",
              "       'ford ltd', 'plymouth fury gran sedan',\n",
              "       'chrysler new yorker brougham', 'buick electra 225 custom',\n",
              "       'amc ambassador brougham', 'plymouth valiant',\n",
              "       'chevrolet nova custom', 'volkswagen super beetle', 'ford country',\n",
              "       'plymouth custom suburb', 'oldsmobile vista cruiser',\n",
              "       'toyota carina', 'datsun 610', 'maxda rx3', 'mercury capri v6',\n",
              "       'fiat 124 sport coupe', 'chevrolet monte carlo s',\n",
              "       'pontiac grand prix', 'fiat 128', 'opel manta', 'audi 100ls',\n",
              "       'volvo 144ea', 'dodge dart custom', 'saab 99le', 'toyota mark ii',\n",
              "       'oldsmobile omega', 'chevrolet nova', 'datsun b210',\n",
              "       'chevrolet chevelle malibu classic', 'plymouth satellite sebring',\n",
              "       'buick century luxus (sw)', 'dodge coronet custom (sw)',\n",
              "       'audi fox', 'volkswagen dasher', 'datsun 710', 'dodge colt',\n",
              "       'fiat 124 tc', 'honda civic', 'subaru', 'fiat x1.9',\n",
              "       'plymouth valiant custom', 'mercury monarch', 'chevrolet bel air',\n",
              "       'plymouth grand fury', 'buick century',\n",
              "       'chevroelt chevelle malibu', 'plymouth fury', 'buick skyhawk',\n",
              "       'chevrolet monza 2+2', 'ford mustang ii', 'toyota corolla',\n",
              "       'pontiac astro', 'volkswagen rabbit', 'amc pacer', 'volvo 244dl',\n",
              "       'honda civic cvcc', 'fiat 131', 'capri ii', 'renault 12tl',\n",
              "       'dodge coronet brougham', 'chevrolet chevette', 'chevrolet woody',\n",
              "       'vw rabbit', 'dodge aspen se', 'ford granada ghia',\n",
              "       'pontiac ventura sj', 'amc pacer d/l', 'datsun b-210', 'volvo 245',\n",
              "       'plymouth volare premier v8', 'mercedes-benz 280s',\n",
              "       'cadillac seville', 'chevy c10', 'ford f108', 'dodge d100',\n",
              "       'honda accord cvcc', 'buick opel isuzu deluxe', 'renault 5 gtl',\n",
              "       'plymouth arrow gs', 'datsun f-10 hatchback',\n",
              "       'oldsmobile cutlass supreme', 'dodge monaco brougham',\n",
              "       'mercury cougar brougham', 'chevrolet concours', 'buick skylark',\n",
              "       'plymouth volare custom', 'ford granada', 'pontiac grand prix lj',\n",
              "       'chevrolet monte carlo landau', 'chrysler cordoba',\n",
              "       'ford thunderbird', 'volkswagen rabbit custom',\n",
              "       'pontiac sunbird coupe', 'toyota corolla liftback',\n",
              "       'ford mustang ii 2+2', 'dodge colt m/m', 'subaru dl', 'datsun 810',\n",
              "       'bmw 320i', 'mazda rx-4', 'volkswagen rabbit custom diesel',\n",
              "       'ford fiesta', 'mazda glc deluxe', 'datsun b210 gx',\n",
              "       'oldsmobile cutlass salon brougham', 'dodge diplomat',\n",
              "       'mercury monarch ghia', 'pontiac phoenix lj',\n",
              "       'ford fairmont (auto)', 'ford fairmont (man)', 'plymouth volare',\n",
              "       'amc concord', 'buick century special', 'mercury zephyr',\n",
              "       'dodge aspen', 'amc concord d/l',\n",
              "       'buick regal sport coupe (turbo)', 'ford futura',\n",
              "       'dodge magnum xe', 'datsun 510', 'dodge omni',\n",
              "       'toyota celica gt liftback', 'plymouth sapporo',\n",
              "       'oldsmobile starfire sx', 'datsun 200-sx', 'audi 5000',\n",
              "       'volvo 264gl', 'saab 99gle', 'peugeot 604sl',\n",
              "       'volkswagen scirocco', 'honda accord lx', 'pontiac lemans v6',\n",
              "       'mercury zephyr 6', 'ford fairmont 4', 'amc concord dl 6',\n",
              "       'dodge aspen 6', 'ford ltd landau', 'mercury grand marquis',\n",
              "       'dodge st. regis', 'chevrolet malibu classic (sw)',\n",
              "       'chrysler lebaron town @ country (sw)', 'vw rabbit custom',\n",
              "       'maxda glc deluxe', 'dodge colt hatchback custom', 'amc spirit dl',\n",
              "       'mercedes benz 300d', 'cadillac eldorado', 'plymouth horizon',\n",
              "       'plymouth horizon tc3', 'datsun 210', 'fiat strada custom',\n",
              "       'buick skylark limited', 'chevrolet citation',\n",
              "       'oldsmobile omega brougham', 'pontiac phoenix',\n",
              "       'toyota corolla tercel', 'datsun 310', 'ford fairmont',\n",
              "       'audi 4000', 'toyota corona liftback', 'mazda 626',\n",
              "       'datsun 510 hatchback', 'mazda glc', 'vw rabbit c (diesel)',\n",
              "       'vw dasher (diesel)', 'audi 5000s (diesel)', 'mercedes-benz 240d',\n",
              "       'honda civic 1500 gl', 'renault lecar deluxe', 'vokswagen rabbit',\n",
              "       'datsun 280-zx', 'mazda rx-7 gs', 'triumph tr7 coupe',\n",
              "       'ford mustang cobra', 'honda accord', 'plymouth reliant',\n",
              "       'dodge aries wagon (sw)', 'toyota starlet', 'plymouth champ',\n",
              "       'honda civic 1300', 'datsun 210 mpg', 'toyota tercel',\n",
              "       'mazda glc 4', 'plymouth horizon 4', 'ford escort 4w',\n",
              "       'ford escort 2h', 'volkswagen jetta', 'renault 18i',\n",
              "       'honda prelude', 'datsun 200sx', 'peugeot 505s turbo diesel',\n",
              "       'volvo diesel', 'toyota cressida', 'datsun 810 maxima',\n",
              "       'oldsmobile cutlass ls', 'ford granada gl',\n",
              "       'chrysler lebaron salon', 'chevrolet cavalier',\n",
              "       'chevrolet cavalier wagon', 'chevrolet cavalier 2-door',\n",
              "       'pontiac j2000 se hatchback', 'dodge aries se',\n",
              "       'ford fairmont futura', 'amc concord dl', 'volkswagen rabbit l',\n",
              "       'mazda glc custom l', 'mazda glc custom', 'plymouth horizon miser',\n",
              "       'mercury lynx l', 'nissan stanza xe', 'honda civic (auto)',\n",
              "       'datsun 310 gx', 'buick century limited',\n",
              "       'oldsmobile cutlass ciera (diesel)', 'chrysler lebaron medallion',\n",
              "       'ford granada l', 'toyota celica gt', 'dodge charger 2.2',\n",
              "       'chevrolet camaro', 'ford mustang gl', 'vw pickup',\n",
              "       'dodge rampage', 'ford ranger', 'chevy s-10'], dtype=object)"
            ]
          },
          "execution_count": 39,
          "metadata": {},
          "output_type": "execute_result"
        }
      ],
      "source": [
        "data['car name'].unique()  #list of all car names"
      ]
    },
    {
      "cell_type": "code",
      "execution_count": 40,
      "metadata": {
        "colab": {
          "base_uri": "https://localhost:8080/"
        },
        "id": "YvwfJK45ffN6",
        "outputId": "541f3436-f959-4405-b08e-d228e9d56c0a"
      },
      "outputs": [
        {
          "name": "stdout",
          "output_type": "stream",
          "text": [
            "<class 'pandas.core.frame.DataFrame'>\n",
            "RangeIndex: 398 entries, 0 to 397\n",
            "Data columns (total 9 columns):\n",
            " #   Column        Non-Null Count  Dtype  \n",
            "---  ------        --------------  -----  \n",
            " 0   mpg           398 non-null    float64\n",
            " 1   cylinders     398 non-null    int64  \n",
            " 2   displacement  398 non-null    float64\n",
            " 3   horsepower    398 non-null    object \n",
            " 4   weight        398 non-null    int64  \n",
            " 5   acceleration  398 non-null    float64\n",
            " 6   model year    398 non-null    int64  \n",
            " 7   origin        398 non-null    int64  \n",
            " 8   car name      398 non-null    object \n",
            "dtypes: float64(3), int64(4), object(2)\n",
            "memory usage: 28.1+ KB\n"
          ]
        }
      ],
      "source": [
        "data.info()  #It shows the different datatype used in Automobile MPG prediction "
      ]
    },
    {
      "cell_type": "markdown",
      "metadata": {
        "id": "D7Mp0bryzOKb"
      },
      "source": [
        "**Graph(Histrogram/Bar graph)**\n",
        "    Data Visualisation"
      ]
    },
    {
      "cell_type": "code",
      "execution_count": 41,
      "metadata": {
        "id": "FoKgjg_MzhgV"
      },
      "outputs": [],
      "source": [
        "# Distribution graphs (histogram/bar graph) of column data\n",
        "def plotPerColumnDistribution(data, nGraphShown, nGraphPerRow):\n",
        "    nunique = data.nunique()\n",
        "    df = data[[col for col in data if nunique[col] > 1 and nunique[col] < 50]] # For displaying purposes, pick columns that have between 1 and 50 unique values\n",
        "    nRow, nCol = data.shape\n",
        "    columnNames = list(data)\n",
        "    nGraphRow = (nCol + nGraphPerRow - 1) / nGraphPerRow\n",
        "    plt.figure(num = None, figsize = (6 * nGraphPerRow, 8 * nGraphRow), dpi = 80, facecolor = 'w', edgecolor = 'k')\n",
        "    for i in range(min(nCol, nGraphShown)):\n",
        "        plt.subplot(nGraphRow, nGraphPerRow, i + 1)\n",
        "        columnDf = data.iloc[:, i]\n",
        "        if (not np.issubdtype(type(columnDf.iloc[0]), np.number)):\n",
        "            valueCounts = columnDf.value_counts()\n",
        "            valueCounts.plot.bar()\n",
        "        else:\n",
        "            columnDf.hist()\n",
        "        plt.ylabel('counts')\n",
        "        plt.xticks(rotation = 90)\n",
        "        plt.title(f'{columnNames[i]} (column {i})')\n",
        "    plt.tight_layout(pad = 1.0, w_pad = 1.0, h_pad = 1.0)\n",
        "    plt.show()"
      ]
    },
    {
      "cell_type": "code",
      "execution_count": 42,
      "metadata": {
        "id": "Hhw9vFNEzuB0"
      },
      "outputs": [],
      "source": [
        "# Correlation matrix\n",
        "def plotCorrelationMatrix(data, graphWidth):\n",
        "    filename = data.dataframeName\n",
        "    df = data.dropna('columns') # drop columns with NaN\n",
        "    df = data[[col for col in data if data[col].nunique() > 1]] # keep columns where there are more than 1 unique values\n",
        "    if data.shape[1] < 2:\n",
        "        print(f'No correlation plots shown: The number of non-NaN or constant columns ({data.shape[1]}) is less than 2')\n",
        "        return\n",
        "    corr = df.corr()\n",
        "    plt.figure(num=None, figsize=(graphWidth, graphWidth), dpi=80, facecolor='w', edgecolor='k')\n",
        "    corrMat = plt.matshow(corr, fignum = 1)\n",
        "    plt.xticks(range(len(corr.columns)), corr.columns, rotation=90)\n",
        "    plt.yticks(range(len(corr.columns)), corr.columns)\n",
        "    plt.gca().xaxis.tick_bottom()\n",
        "    plt.colorbar(corrMat)\n",
        "    plt.title(f'Correlation Matrix for {filename}', fontsize=15)\n",
        "    plt.show()"
      ]
    },
    {
      "cell_type": "code",
      "execution_count": 43,
      "metadata": {
        "id": "CI5PEWaVzypK"
      },
      "outputs": [],
      "source": [
        "# Scatter and density plots\n",
        "def plotScatterMatrix(data, plotSize, textSize):\n",
        "    df = data.select_dtypes(include =[np.number]) # keep only numerical columns\n",
        "    # Remove rows and columns that would lead to df being singular\n",
        "    df = data.dropna('columns')\n",
        "    df = data[[col for col in data if data[col].nunique() > 1]] # keep columns where there are more than 1 unique values\n",
        "    columnNames = list(data)\n",
        "    if len(columnNames) > 10: # reduce the number of columns for matrix inversion of kernel density plots\n",
        "        columnNames = columnNames[:10]\n",
        "    df = df[columnNames]\n",
        "    ax = pd.plotting.scatter_matrix(data, alpha=0.75, figsize=[plotSize, plotSize], diagonal='kde')\n",
        "    corrs = data.corr().values\n",
        "    for i, j in zip(*plt.np.triu_indices_from(ax, k = 1)):\n",
        "        ax[i, j].annotate('Corr. coef = %.3f' % corrs[i, j], (0.8, 0.2), xycoords='axes fraction', ha='center', va='center', size=textSize)\n",
        "    plt.suptitle('Scatter and Density Plot')\n",
        "    plt.show()"
      ]
    },
    {
      "cell_type": "code",
      "execution_count": 44,
      "metadata": {
        "colab": {
          "base_uri": "https://localhost:8080/"
        },
        "id": "Sog4dl4ez1_z",
        "outputId": "df099592-ed49-408f-d13f-07de2d38e14d"
      },
      "outputs": [
        {
          "name": "stdout",
          "output_type": "stream",
          "text": [
            "There are 398 rows and 9 columns\n"
          ]
        }
      ],
      "source": [
        "data.dataframeName = 'auto-mpg.csv'\n",
        "nRow, nCol = data.shape\n",
        "print(f'There are {nRow} rows and {nCol} columns')"
      ]
    },
    {
      "cell_type": "code",
      "execution_count": 45,
      "metadata": {
        "colab": {
          "base_uri": "https://localhost:8080/",
          "height": 1000
        },
        "id": "7J-BhWlZ0DJX",
        "outputId": "cb333cd6-24aa-42ec-d9cd-86b1d9cc61a4"
      },
      "outputs": [
        {
          "ename": "ValueError",
          "evalue": "Number of rows must be a positive integer, not 9.0",
          "output_type": "error",
          "traceback": [
            "\u001b[1;31m---------------------------------------------------------------------------\u001b[0m",
            "\u001b[1;31mValueError\u001b[0m                                Traceback (most recent call last)",
            "\u001b[1;32mc:\\Users\\C Gangadhara\\OneDrive\\Documents\\Desktop\\Amrita college\\Mathematics 2\\Automobile_MPG_Prediction\\Automobile_MPG_prediction.ipynb Cell 15\u001b[0m in \u001b[0;36m<cell line: 1>\u001b[1;34m()\u001b[0m\n\u001b[1;32m----> <a href='vscode-notebook-cell:/c%3A/Users/C%20Gangadhara/OneDrive/Documents/Desktop/Amrita%20college/Mathematics%202/Automobile_MPG_Prediction/Automobile_MPG_prediction.ipynb#ch0000014?line=0'>1</a>\u001b[0m plotPerColumnDistribution(data, \u001b[39m5\u001b[39;49m, \u001b[39m1\u001b[39;49m)\n",
            "\u001b[1;32mc:\\Users\\C Gangadhara\\OneDrive\\Documents\\Desktop\\Amrita college\\Mathematics 2\\Automobile_MPG_Prediction\\Automobile_MPG_prediction.ipynb Cell 15\u001b[0m in \u001b[0;36mplotPerColumnDistribution\u001b[1;34m(data, nGraphShown, nGraphPerRow)\u001b[0m\n\u001b[0;32m      <a href='vscode-notebook-cell:/c%3A/Users/C%20Gangadhara/OneDrive/Documents/Desktop/Amrita%20college/Mathematics%202/Automobile_MPG_Prediction/Automobile_MPG_prediction.ipynb#ch0000014?line=7'>8</a>\u001b[0m plt\u001b[39m.\u001b[39mfigure(num \u001b[39m=\u001b[39m \u001b[39mNone\u001b[39;00m, figsize \u001b[39m=\u001b[39m (\u001b[39m6\u001b[39m \u001b[39m*\u001b[39m nGraphPerRow, \u001b[39m8\u001b[39m \u001b[39m*\u001b[39m nGraphRow), dpi \u001b[39m=\u001b[39m \u001b[39m80\u001b[39m, facecolor \u001b[39m=\u001b[39m \u001b[39m'\u001b[39m\u001b[39mw\u001b[39m\u001b[39m'\u001b[39m, edgecolor \u001b[39m=\u001b[39m \u001b[39m'\u001b[39m\u001b[39mk\u001b[39m\u001b[39m'\u001b[39m)\n\u001b[0;32m      <a href='vscode-notebook-cell:/c%3A/Users/C%20Gangadhara/OneDrive/Documents/Desktop/Amrita%20college/Mathematics%202/Automobile_MPG_Prediction/Automobile_MPG_prediction.ipynb#ch0000014?line=8'>9</a>\u001b[0m \u001b[39mfor\u001b[39;00m i \u001b[39min\u001b[39;00m \u001b[39mrange\u001b[39m(\u001b[39mmin\u001b[39m(nCol, nGraphShown)):\n\u001b[1;32m---> <a href='vscode-notebook-cell:/c%3A/Users/C%20Gangadhara/OneDrive/Documents/Desktop/Amrita%20college/Mathematics%202/Automobile_MPG_Prediction/Automobile_MPG_prediction.ipynb#ch0000014?line=9'>10</a>\u001b[0m     plt\u001b[39m.\u001b[39;49msubplot(nGraphRow, nGraphPerRow, i \u001b[39m+\u001b[39;49m \u001b[39m1\u001b[39;49m)\n\u001b[0;32m     <a href='vscode-notebook-cell:/c%3A/Users/C%20Gangadhara/OneDrive/Documents/Desktop/Amrita%20college/Mathematics%202/Automobile_MPG_Prediction/Automobile_MPG_prediction.ipynb#ch0000014?line=10'>11</a>\u001b[0m     columnDf \u001b[39m=\u001b[39m data\u001b[39m.\u001b[39miloc[:, i]\n\u001b[0;32m     <a href='vscode-notebook-cell:/c%3A/Users/C%20Gangadhara/OneDrive/Documents/Desktop/Amrita%20college/Mathematics%202/Automobile_MPG_Prediction/Automobile_MPG_prediction.ipynb#ch0000014?line=11'>12</a>\u001b[0m     \u001b[39mif\u001b[39;00m (\u001b[39mnot\u001b[39;00m np\u001b[39m.\u001b[39missubdtype(\u001b[39mtype\u001b[39m(columnDf\u001b[39m.\u001b[39miloc[\u001b[39m0\u001b[39m]), np\u001b[39m.\u001b[39mnumber)):\n",
            "File \u001b[1;32mc:\\Users\\C Gangadhara\\AppData\\Local\\Programs\\Python\\Python310\\lib\\site-packages\\matplotlib\\pyplot.py:1289\u001b[0m, in \u001b[0;36msubplot\u001b[1;34m(*args, **kwargs)\u001b[0m\n\u001b[0;32m   1286\u001b[0m fig \u001b[39m=\u001b[39m gcf()\n\u001b[0;32m   1288\u001b[0m \u001b[39m# First, search for an existing subplot with a matching spec.\u001b[39;00m\n\u001b[1;32m-> 1289\u001b[0m key \u001b[39m=\u001b[39m SubplotSpec\u001b[39m.\u001b[39;49m_from_subplot_args(fig, args)\n\u001b[0;32m   1291\u001b[0m \u001b[39mfor\u001b[39;00m ax \u001b[39min\u001b[39;00m fig\u001b[39m.\u001b[39maxes:\n\u001b[0;32m   1292\u001b[0m     \u001b[39m# if we found an axes at the position sort out if we can re-use it\u001b[39;00m\n\u001b[0;32m   1293\u001b[0m     \u001b[39mif\u001b[39;00m \u001b[39mhasattr\u001b[39m(ax, \u001b[39m'\u001b[39m\u001b[39mget_subplotspec\u001b[39m\u001b[39m'\u001b[39m) \u001b[39mand\u001b[39;00m ax\u001b[39m.\u001b[39mget_subplotspec() \u001b[39m==\u001b[39m key:\n\u001b[0;32m   1294\u001b[0m         \u001b[39m# if the user passed no kwargs, re-use\u001b[39;00m\n",
            "File \u001b[1;32mc:\\Users\\C Gangadhara\\AppData\\Local\\Programs\\Python\\Python310\\lib\\site-packages\\matplotlib\\gridspec.py:597\u001b[0m, in \u001b[0;36mSubplotSpec._from_subplot_args\u001b[1;34m(figure, args)\u001b[0m\n\u001b[0;32m    593\u001b[0m \u001b[39melse\u001b[39;00m:\n\u001b[0;32m    594\u001b[0m     \u001b[39mraise\u001b[39;00m \u001b[39mTypeError\u001b[39;00m(\u001b[39mf\u001b[39m\u001b[39m\"\u001b[39m\u001b[39msubplot() takes 1 or 3 positional arguments but \u001b[39m\u001b[39m\"\u001b[39m\n\u001b[0;32m    595\u001b[0m                     \u001b[39mf\u001b[39m\u001b[39m\"\u001b[39m\u001b[39m{\u001b[39;00m\u001b[39mlen\u001b[39m(args)\u001b[39m}\u001b[39;00m\u001b[39m were given\u001b[39m\u001b[39m\"\u001b[39m)\n\u001b[1;32m--> 597\u001b[0m gs \u001b[39m=\u001b[39m GridSpec\u001b[39m.\u001b[39;49m_check_gridspec_exists(figure, rows, cols)\n\u001b[0;32m    598\u001b[0m \u001b[39mif\u001b[39;00m gs \u001b[39mis\u001b[39;00m \u001b[39mNone\u001b[39;00m:\n\u001b[0;32m    599\u001b[0m     gs \u001b[39m=\u001b[39m GridSpec(rows, cols, figure\u001b[39m=\u001b[39mfigure)\n",
            "File \u001b[1;32mc:\\Users\\C Gangadhara\\AppData\\Local\\Programs\\Python\\Python310\\lib\\site-packages\\matplotlib\\gridspec.py:225\u001b[0m, in \u001b[0;36mGridSpecBase._check_gridspec_exists\u001b[1;34m(figure, nrows, ncols)\u001b[0m\n\u001b[0;32m    223\u001b[0m             \u001b[39mreturn\u001b[39;00m gs\n\u001b[0;32m    224\u001b[0m \u001b[39m# else gridspec not found:\u001b[39;00m\n\u001b[1;32m--> 225\u001b[0m \u001b[39mreturn\u001b[39;00m GridSpec(nrows, ncols, figure\u001b[39m=\u001b[39;49mfigure)\n",
            "File \u001b[1;32mc:\\Users\\C Gangadhara\\AppData\\Local\\Programs\\Python\\Python310\\lib\\site-packages\\matplotlib\\gridspec.py:385\u001b[0m, in \u001b[0;36mGridSpec.__init__\u001b[1;34m(self, nrows, ncols, figure, left, bottom, right, top, wspace, hspace, width_ratios, height_ratios)\u001b[0m\n\u001b[0;32m    382\u001b[0m \u001b[39mself\u001b[39m\u001b[39m.\u001b[39mhspace \u001b[39m=\u001b[39m hspace\n\u001b[0;32m    383\u001b[0m \u001b[39mself\u001b[39m\u001b[39m.\u001b[39mfigure \u001b[39m=\u001b[39m figure\n\u001b[1;32m--> 385\u001b[0m \u001b[39msuper\u001b[39;49m()\u001b[39m.\u001b[39;49m\u001b[39m__init__\u001b[39;49m(nrows, ncols,\n\u001b[0;32m    386\u001b[0m                  width_ratios\u001b[39m=\u001b[39;49mwidth_ratios,\n\u001b[0;32m    387\u001b[0m                  height_ratios\u001b[39m=\u001b[39;49mheight_ratios)\n",
            "File \u001b[1;32mc:\\Users\\C Gangadhara\\AppData\\Local\\Programs\\Python\\Python310\\lib\\site-packages\\matplotlib\\gridspec.py:49\u001b[0m, in \u001b[0;36mGridSpecBase.__init__\u001b[1;34m(self, nrows, ncols, height_ratios, width_ratios)\u001b[0m\n\u001b[0;32m     34\u001b[0m \u001b[39m\"\"\"\u001b[39;00m\n\u001b[0;32m     35\u001b[0m \u001b[39mParameters\u001b[39;00m\n\u001b[0;32m     36\u001b[0m \u001b[39m----------\u001b[39;00m\n\u001b[1;32m   (...)\u001b[0m\n\u001b[0;32m     46\u001b[0m \u001b[39m    If not given, all rows will have the same height.\u001b[39;00m\n\u001b[0;32m     47\u001b[0m \u001b[39m\"\"\"\u001b[39;00m\n\u001b[0;32m     48\u001b[0m \u001b[39mif\u001b[39;00m \u001b[39mnot\u001b[39;00m \u001b[39misinstance\u001b[39m(nrows, Integral) \u001b[39mor\u001b[39;00m nrows \u001b[39m<\u001b[39m\u001b[39m=\u001b[39m \u001b[39m0\u001b[39m:\n\u001b[1;32m---> 49\u001b[0m     \u001b[39mraise\u001b[39;00m \u001b[39mValueError\u001b[39;00m(\n\u001b[0;32m     50\u001b[0m         \u001b[39mf\u001b[39m\u001b[39m\"\u001b[39m\u001b[39mNumber of rows must be a positive integer, not \u001b[39m\u001b[39m{\u001b[39;00mnrows\u001b[39m!r}\u001b[39;00m\u001b[39m\"\u001b[39m)\n\u001b[0;32m     51\u001b[0m \u001b[39mif\u001b[39;00m \u001b[39mnot\u001b[39;00m \u001b[39misinstance\u001b[39m(ncols, Integral) \u001b[39mor\u001b[39;00m ncols \u001b[39m<\u001b[39m\u001b[39m=\u001b[39m \u001b[39m0\u001b[39m:\n\u001b[0;32m     52\u001b[0m     \u001b[39mraise\u001b[39;00m \u001b[39mValueError\u001b[39;00m(\n\u001b[0;32m     53\u001b[0m         \u001b[39mf\u001b[39m\u001b[39m\"\u001b[39m\u001b[39mNumber of columns must be a positive integer, not \u001b[39m\u001b[39m{\u001b[39;00mncols\u001b[39m!r}\u001b[39;00m\u001b[39m\"\u001b[39m)\n",
            "\u001b[1;31mValueError\u001b[0m: Number of rows must be a positive integer, not 9.0"
          ]
        },
        {
          "data": {
            "text/plain": [
              "<Figure size 480x5760 with 0 Axes>"
            ]
          },
          "metadata": {},
          "output_type": "display_data"
        }
      ],
      "source": [
        "plotPerColumnDistribution(data, 5, 1)"
      ]
    },
    {
      "cell_type": "code",
      "execution_count": null,
      "metadata": {
        "colab": {
          "base_uri": "https://localhost:8080/",
          "height": 713
        },
        "id": "3eODVIdY0Jg6",
        "outputId": "b6efcb30-2804-4115-869c-3891ccfa3638"
      },
      "outputs": [],
      "source": [
        "plotCorrelationMatrix(data, 10)\n",
        "#A correlation matrix is simply a table which displays the correlation coefficients for different variables. The matrix depicts the correlation between all the possible pairs of values in a table. It is a powerful tool to summarize a large dataset and to identify and visualize patterns in the given data.\n",
        "#A correlation matrix consists of rows and columns that show the variables. Each cell in a table contains the correlation coefficient."
      ]
    },
    {
      "cell_type": "code",
      "execution_count": null,
      "metadata": {
        "colab": {
          "base_uri": "https://localhost:8080/",
          "height": 1000
        },
        "id": "Pq5GOaTN0UJb",
        "outputId": "c4587ee2-040d-4a83-a0a2-ca6065f86adc"
      },
      "outputs": [],
      "source": [
        "sns.pairplot(data, diag_kind = \"kde\", markers = '+') # we are ploting the dependent and independent and comparing it\n",
        "plt.show()\n"
      ]
    },
    {
      "cell_type": "code",
      "execution_count": 46,
      "metadata": {},
      "outputs": [
        {
          "data": {
            "image/png": "[encoded data removed]",
            "text/plain": [
              "<Figure size 640x480 with 2 Axes>"
            ]
          },
          "metadata": {},
          "output_type": "display_data"
        }
      ],
      "source": [
        "corr = data.corr()\n",
        "sns.heatmap(corr)\n",
        "plt.show()"
      ]
    },
    {
      "cell_type": "markdown",
      "metadata": {
        "id": "ht2R3KKhvkE9"
      },
      "source": [
        "#  Preprocessing"
      ]
    },
    {
      "cell_type": "code",
      "execution_count": null,
      "metadata": {
        "colab": {
          "base_uri": "https://localhost:8080/",
          "height": 424
        },
        "id": "uOs7q_3laiwx",
        "outputId": "80900ab0-9fa1-4f42-dab3-d685d1196641"
      },
      "outputs": [],
      "source": [
        "data"
      ]
    },
    {
      "cell_type": "code",
      "execution_count": null,
      "metadata": {
        "id": "nZCU8L2u2zaV"
      },
      "outputs": [],
      "source": [
        "def onehot_encode(df, column_dict):\n",
        "    df = df.copy()\n",
        "    for column, prefix in column_dict.items():\n",
        "        dummies = pd.get_dummies(df[column], prefix=prefix)\n",
        "        df = pd.concat([df, dummies], axis=1)\n",
        "        df = df.drop(column, axis=1)\n",
        "    return df"
      ]
    },
    {
      "cell_type": "code",
      "execution_count": null,
      "metadata": {
        "id": "gPgr8nsdDEs-"
      },
      "outputs": [],
      "source": [
        "def encode(data): \n",
        "  label_encode = LabelEncoder()\n",
        "  #label_genre = label_encode.fit_transform()\n",
        "  label = label_encode.fit_transform(data)\n",
        "  return label\n"
      ]
    },
    {
      "cell_type": "code",
      "execution_count": null,
      "metadata": {
        "id": "0zrH96Zkv1Gx"
      },
      "outputs": [],
      "source": [
        "def preprocess_inputs(df):\n",
        "    df = df.copy()\n",
        "    \n",
        "    # Fill in missing horsepower values with the column mean\n",
        "    df['horsepower'] = df['horsepower'].replace('?', np.NaN).astype(np.float)\n",
        "    df['horsepower'] = df['horsepower'].fillna(df['horsepower'].mean())\n",
        "    \n",
        "    # Create make feature\n",
        "    df['make'] = df['car name'].apply(lambda x: re.search(r'^\\w+', x).group(0))\n",
        "    df = df.drop('car name', axis=1)\n",
        "    \n",
        "    # Fix typos in make names\n",
        "    make_typo_correction = {\n",
        "        'vw': 'volkswagen',\n",
        "        'chevy': 'chevrolet',\n",
        "        'maxda': 'mazda',\n",
        "        'vokswagen': 'volkswagen',\n",
        "        'toyouta': 'toyota',\n",
        "        'chevroelt': 'chevrolet'\n",
        "    }\n",
        "    df['make'] = df['make'].replace(make_typo_correction)\n",
        "    \n",
        "    # One-hot encode nominal features\n",
        "    nominal_feature_dict = {\n",
        "        'origin': 'orig',\n",
        "        'make': 'mk'\n",
        "    }\n",
        "    df = onehot_encode(df, nominal_feature_dict)\n",
        "    \n",
        "    # Split df into X and y\n",
        "    y = df['mpg'].copy()\n",
        "    X = df.drop('mpg', axis=1).copy()\n",
        "    \n",
        "    # Train-test split\n",
        "    X_train, X_test, y_train, y_test = train_test_split(X, y, train_size=0.7, random_state=123)\n",
        "    \n",
        "    # Scale X_train and X_test with a standard scaler fit only on X_train\n",
        "    scaler = StandardScaler()\n",
        "    scaler.fit(X_train)\n",
        "    \n",
        "    X_train = pd.DataFrame(scaler.transform(X_train), columns=X_train.columns)\n",
        "    X_test = pd.DataFrame(scaler.transform(X_test), columns=X_test.columns)\n",
        "    \n",
        "    return X_train, X_test, y_train, y_test"
      ]
    },
    {
      "cell_type": "code",
      "execution_count": null,
      "metadata": {
        "colab": {
          "base_uri": "https://localhost:8080/"
        },
        "id": "Rpd3Lv1tOqWH",
        "outputId": "d3fab0e0-d7e0-4fa1-8575-6883bfc586c5"
      },
      "outputs": [],
      "source": [
        "X_train, X_test, y_train, y_test = preprocess_inputs(data)"
      ]
    },
    {
      "cell_type": "code",
      "execution_count": null,
      "metadata": {
        "colab": {
          "base_uri": "https://localhost:8080/",
          "height": 505
        },
        "id": "hj0shj7rwh6U",
        "outputId": "48d9c418-9680-42a0-92ea-d5c473b64be1"
      },
      "outputs": [],
      "source": [
        "X_train"
      ]
    },
    {
      "cell_type": "markdown",
      "metadata": {
        "id": "OtWX1jCP3pjZ"
      },
      "source": [
        "# **Training**"
      ]
    },
    {
      "cell_type": "markdown",
      "metadata": {
        "id": "09z2hcvEzsM_"
      },
      "source": [
        "# Linear Regression:"
      ]
    },
    {
      "cell_type": "code",
      "execution_count": null,
      "metadata": {
        "colab": {
          "base_uri": "https://localhost:8080/"
        },
        "id": "3DK9Hn5U3yPA",
        "outputId": "00e325d3-6feb-4b72-dd5f-39173f5707d8"
      },
      "outputs": [],
      "source": [
        "import numpy as np\n",
        "from sklearn.linear_model import LinearRegression\n",
        "reg = LinearRegression().fit(X_train, y_train)\n",
        "reg.score(X_train, y_train)"
      ]
    },
    {
      "cell_type": "code",
      "execution_count": null,
      "metadata": {
        "colab": {
          "base_uri": "https://localhost:8080/"
        },
        "id": "OjLcO4Cp8IKE",
        "outputId": "01452f7b-9446-4338-9c11-7fbc9ef32445"
      },
      "outputs": [],
      "source": [
        "Reg_predict =reg.predict(X_test)\n",
        "Reg_predict"
      ]
    },
    {
      "cell_type": "markdown",
      "metadata": {
        "id": "AxkV0YLj3t5o"
      },
      "source": [
        "**check Mean Squared Error for Linear Regression**"
      ]
    },
    {
      "cell_type": "code",
      "execution_count": null,
      "metadata": {
        "colab": {
          "base_uri": "https://localhost:8080/"
        },
        "id": "r8aN32ef3xyQ",
        "outputId": "af65f487-0060-469a-8ee5-16fdfd50c449"
      },
      "outputs": [],
      "source": [
        "from sklearn.metrics  import  mean_squared_error\n",
        "mean_squared_error(y_test, Reg_predict)"
      ]
    },
    {
      "cell_type": "code",
      "execution_count": null,
      "metadata": {
        "colab": {
          "base_uri": "https://localhost:8080/"
        },
        "id": "OaQpp64n4D36",
        "outputId": "b72f80f2-6298-421b-8cd1-d95bec3529b1"
      },
      "outputs": [],
      "source": [
        "np.sqrt(mean_squared_error(y_test, Reg_predict))"
      ]
    },
    {
      "cell_type": "markdown",
      "metadata": {
        "id": "B9fMgPvezxhB"
      },
      "source": [
        "# Decision tree model"
      ]
    },
    {
      "cell_type": "code",
      "execution_count": null,
      "metadata": {
        "colab": {
          "base_uri": "https://localhost:8080/"
        },
        "id": "8yCToPOi323w",
        "outputId": "3a0d7379-03b1-4bc7-9063-f56f1c167b68"
      },
      "outputs": [],
      "source": [
        "# Using a decision tree model\n",
        "tree_model = DecisionTreeRegressor()\n",
        "Dec=tree_model.fit(X_train, y_train)\n",
        "A=Dec.score(X_train, y_train)\n",
        "print(A)\n",
        "dec_predict =tree_model.predict(X_test.values)\n",
        "print(dec_predict)\n",
        "tree_r2 = tree_model.score(X_test, y_test)\n",
        "print(\"Decision Tree R^2: {:.5f}\".format(tree_r2))"
      ]
    },
    {
      "cell_type": "markdown",
      "metadata": {
        "id": "mEKJc3t2MXTE"
      },
      "source": [
        "check mean square error using decision tree model"
      ]
    },
    {
      "cell_type": "code",
      "execution_count": null,
      "metadata": {
        "colab": {
          "base_uri": "https://localhost:8080/"
        },
        "id": "CxNv4Bb7MgNY",
        "outputId": "4c9d5a2a-beca-48ff-e4df-c003b0ec461d"
      },
      "outputs": [],
      "source": [
        "from sklearn.metrics  import  mean_squared_error\n",
        "mean_squared_error(y_test, dec_predict)\n"
      ]
    },
    {
      "cell_type": "code",
      "execution_count": null,
      "metadata": {
        "colab": {
          "base_uri": "https://localhost:8080/"
        },
        "id": "X13KY7BzMn5N",
        "outputId": "92eed9c9-250f-4791-c06f-4d0d28a81c25"
      },
      "outputs": [],
      "source": [
        "np.sqrt(mean_squared_error(y_test,dec_predict))"
      ]
    },
    {
      "cell_type": "markdown",
      "metadata": {
        "id": "BfLDGXc5z1-7"
      },
      "source": [
        "# Random forest regression model"
      ]
    },
    {
      "cell_type": "code",
      "execution_count": null,
      "metadata": {
        "colab": {
          "base_uri": "https://localhost:8080/"
        },
        "id": "nAKT1oeu36U_",
        "outputId": "de7aa080-9e5b-4e0b-94e0-818b894a269f"
      },
      "outputs": [],
      "source": [
        "# Using random forest regression model\n",
        "rf_model = RandomForestRegressor()\n",
        "rf_model.fit(X_train, y_train)\n",
        "\n",
        "rf_r2 = rf_model.score(X_test, y_test)\n",
        "print(\"Random Forest R^2: {:.5f}\".format(rf_r2))"
      ]
    },
    {
      "cell_type": "code",
      "execution_count": null,
      "metadata": {
        "colab": {
          "base_uri": "https://localhost:8080/"
        },
        "id": "fPb90O1lO-F1",
        "outputId": "35b8f03a-7b8f-4600-8eaf-70995bd89f48"
      },
      "outputs": [],
      "source": [
        "# Initialzing empty lists to append all model's name and corresponding name\n",
        "data = []  # initialize a array to store the trained data \n",
        "Random_Forest = RandomForestRegressor() #creating the instances of RandomForest Regressor\n",
        "Random_Forest.fit(X_train.values,y_train.values)# it will train the model. Which can be used in predict() with a single arguement"
      ]
    },
    {
      "cell_type": "code",
      "execution_count": null,
      "metadata": {
        "id": "g3WbJFwEO_GJ"
      },
      "outputs": [],
      "source": [
        "y_predict = Random_Forest.predict(X_test.values)\n",
        "#y_predict = Random_Forest.predict(X_test)\n"
      ]
    },
    {
      "cell_type": "code",
      "execution_count": null,
      "metadata": {
        "colab": {
          "base_uri": "https://localhost:8080/"
        },
        "id": "WSx8VgaIPByM",
        "outputId": "ee21e3cd-2616-499c-f650-86778216ffee"
      },
      "outputs": [],
      "source": [
        "y_predict"
      ]
    },
    {
      "cell_type": "markdown",
      "metadata": {
        "id": "6Cq9Qt1vOssQ"
      },
      "source": [
        "Checking Mean Squared Error for Random Forest Regressor"
      ]
    },
    {
      "cell_type": "code",
      "execution_count": null,
      "metadata": {
        "colab": {
          "base_uri": "https://localhost:8080/"
        },
        "id": "hwBh93IWO2o4",
        "outputId": "af0cd42d-a3e1-4954-a036-eb1f145b301e"
      },
      "outputs": [],
      "source": [
        "from sklearn.metrics  import  mean_squared_error\n",
        "mean_squared_error(y_test, y_predict)"
      ]
    },
    {
      "cell_type": "code",
      "execution_count": null,
      "metadata": {
        "colab": {
          "base_uri": "https://localhost:8080/"
        },
        "id": "rH3DSEj5O3bM",
        "outputId": "2245082d-6b07-4b59-ff07-21414f1438ba"
      },
      "outputs": [],
      "source": [
        "np.sqrt(mean_squared_error(y_test, y_predict))"
      ]
    },
    {
      "cell_type": "markdown",
      "metadata": {
        "id": "2Ht8gRJe3pJ7"
      },
      "source": [
        "# Polynomial Regression"
      ]
    },
    {
      "cell_type": "code",
      "execution_count": null,
      "metadata": {
        "colab": {
          "base_uri": "https://localhost:8080/"
        },
        "id": "j504Mti03shg",
        "outputId": "7af372a3-6885-4cf2-9aec-cc6c01bcb298"
      },
      "outputs": [],
      "source": [
        "from sklearn.preprocessing import PolynomialFeatures\n",
        "from sklearn.linear_model import LinearRegression\n",
        "n=5\n",
        "poly = PolynomialFeatures(degree=n, include_bias=False)\n",
        "#poly_features = poly.fit_transform(x_train.values.reshape(-1, 1))\n",
        "poly_reg_model = LinearRegression()\n",
        "poly_reg_model.fit(X_train, y_train)"
      ]
    },
    {
      "cell_type": "code",
      "execution_count": null,
      "metadata": {
        "colab": {
          "base_uri": "https://localhost:8080/"
        },
        "id": "lrmrEzdw3xO7",
        "outputId": "97cc3d4d-312f-40d5-f775-a95a3970b885"
      },
      "outputs": [],
      "source": [
        "poly_predict= reg.predict(X_test)\n",
        "from sklearn.metrics  import  mean_squared_error\n",
        "mean_squared_error(y_test, poly_predict)"
      ]
    },
    {
      "cell_type": "code",
      "execution_count": null,
      "metadata": {
        "colab": {
          "base_uri": "https://localhost:8080/"
        },
        "id": "4pU8qIvz5J53",
        "outputId": "002dc6b4-eba6-4206-c915-dd4e470fb125"
      },
      "outputs": [],
      "source": [
        "np.sqrt(mean_squared_error(y_test, poly_predict))"
      ]
    },
    {
      "cell_type": "markdown",
      "metadata": {
        "id": "BNhmVF4dNxeH"
      },
      "source": [
        "References:\n",
        "https://www.analyticsvidhya.com/blog/2022/01/different-types-of-regression-models/\n",
        "\n",
        "https://groverjatin.medium.com/predict-car-gas-mileage-machine-learning-regression-prediction-problem-675869517617\n",
        "https://cocolevio.com/how-to-predict-car-fuel-efficiency-using-machine-learning/"
      ]
    },
    {
      "cell_type": "markdown",
      "metadata": {
        "id": "dGGEu2QA4mzK"
      },
      "source": [
        "# **Defining the linear regression**"
      ]
    },
    {
      "cell_type": "code",
      "execution_count": 47,
      "metadata": {
        "colab": {
          "base_uri": "https://localhost:8080/",
          "height": 235
        },
        "id": "cnBW7TS-4lv1",
        "outputId": "7d681fa9-9fd5-4a6a-a490-f069a1331c18"
      },
      "outputs": [],
      "source": [
        "#defining the model\n",
        "#model1 = data[['cylinders ','weight','model year']]\n",
        "\n",
        "# model4 = data[['origin']]\n",
        "# model5 = data[['displacement']]\n",
        "# model6 = data[['acceleration']]\n",
        "# model7 = data[['cylinders','acceleration']]\n",
        "# model8 = data[['cylinders','displacement']]\n",
        "# model9 = data[['displacement','origin','cylinders']]\n",
        "# model10 = data[['acceleration','origin','weight']]\n",
        "# model11= data[['acceleration','origin','cylinders','displacement']]\n",
        "#The output that the user get input from our dataset\n",
        "actual_mpg = data['mpg']"
      ]
    },
    {
      "cell_type": "code",
      "execution_count": 48,
      "metadata": {
        "id": "BwNkL2Hm4viT"
      },
      "outputs": [],
      "source": [
        "#importing libraries for the model\n",
        "from sklearn.model_selection import train_test_split\n",
        "import numpy as np\n",
        "from sklearn.linear_model import LinearRegression"
      ]
    },
    {
      "cell_type": "markdown",
      "metadata": {
        "id": "xRGmhhIG41Zo"
      },
      "source": [
        "# Prediction using cylinders"
      ]
    },
    {
      "cell_type": "code",
      "execution_count": null,
      "metadata": {
        "id": "bU4BN9m64yaj"
      },
      "outputs": [
        {
          "name": "stdout",
          "output_type": "stream",
          "text": [
            "The predicted values by this model is:\n",
            "[14.36682056 28.72876025 28.72876025 14.36682056 28.72876025 28.72876025\n",
            " 14.36682056 28.72876025 28.72876025 14.36682056 14.36682056 28.72876025\n",
            " 14.36682056 14.36682056 21.5477904  28.72876025 14.36682056 28.72876025\n",
            " 21.5477904  14.36682056]\n",
            "MSE: 3.6110525384736762\n",
            "Accuracy of cylinders: 73.25030527843259\n"
          ]
        }
      ],
      "source": [
        "from sklearn.metrics import mean_squared_error\n",
        "x_train,x_test,y_train,y_test = train_test_split(data[['cylinders']],actual_mpg,test_size = 0.05,random_state =500)\n",
        "reg = LinearRegression().fit(x_train, y_train)\n",
        "r2_score_train = reg.score(x_train, y_train)\n",
        "Reg_predict =reg.predict(x_test)\n",
        "print(\"The predicted values by this model is:\")\n",
        "print(Reg_predict)\n",
        "MSE = np.sqrt(mean_squared_error(y_test, Reg_predict))\n",
        "print(\"MSE: \"+str(MSE))\n",
        "r2_score = reg.score(x_test,y_test)\n",
        "print(\"Accuracy of cylinders: \"+str(r2_score*100))"
      ]
    },
    {
      "cell_type": "markdown",
      "metadata": {
        "id": "elVzzAab5Da8"
      },
      "source": [
        "# Prediction using weight"
      ]
    },
    {
      "cell_type": "code",
      "execution_count": 49,
      "metadata": {
        "id": "Ld53QBBR5EGR"
      },
      "outputs": [
        {
          "name": "stdout",
          "output_type": "stream",
          "text": [
            "The predicted values by this model is:\n",
            "[17.31928996 29.51368717 25.16238244 12.36939304 28.92276925 28.65417019\n",
            " 14.53353402 29.30648219 27.39559175 17.64160883 11.77847512 28.27045725\n",
            " 12.65334062 18.90786153 23.1210296  26.77397679 13.47448631 26.0832935\n",
            " 21.14874509 19.41436261]\n",
            "MSE: 2.8942053343558762\n",
            "Accuracy of weight: 82.81656853963824\n"
          ]
        }
      ],
      "source": [
        "x_train,x_test,y_train,y_test = train_test_split(data[['weight']],actual_mpg,test_size = 0.05,random_state =500)\n",
        "reg = LinearRegression().fit(x_train, y_train)\n",
        "r2_score_train = reg.score(x_train, y_train)\n",
        "Reg_predict =reg.predict(x_test)\n",
        "print(\"The predicted values by this model is:\")\n",
        "print(Reg_predict)\n",
        "MSE = np.sqrt(mean_squared_error(y_test, Reg_predict))\n",
        "print(\"MSE: \"+str(MSE))\n",
        "r2_score = reg.score(x_test,y_test)\n",
        "print(\"Accuracy of weight: \"+str(r2_score*100))"
      ]
    },
    {
      "cell_type": "markdown",
      "metadata": {
        "id": "9kIs4cLY5Ljz"
      },
      "source": [
        "# Prediction using Model year"
      ]
    },
    {
      "cell_type": "code",
      "execution_count": 50,
      "metadata": {
        "id": "fqXBrUDE5Pxp"
      },
      "outputs": [
        {
          "name": "stdout",
          "output_type": "stream",
          "text": [
            "The predicted values by this model is:\n",
            "[19.96212289 28.39710788 24.78211432 18.75712503 24.78211432 21.16712075\n",
            " 24.78211432 29.60210574 23.57711646 25.98711217 19.96212289 29.60210574\n",
            " 18.75712503 25.98711217 19.96212289 22.3721186  19.96212289 29.60210574\n",
            " 19.96212289 16.34712932]\n",
            "MSE: 4.84794096275529\n",
            "Accuracy of model year: 51.78681074697635\n"
          ]
        }
      ],
      "source": [
        "x_train,x_test,y_train,y_test = train_test_split(data[['model year']],actual_mpg,test_size = 0.05,random_state =500)\n",
        "reg = LinearRegression().fit(x_train, y_train)\n",
        "r2_score_train = reg.score(x_train, y_train)\n",
        "Reg_predict =reg.predict(x_test)\n",
        "print(\"The predicted values by this model is:\")\n",
        "print(Reg_predict)\n",
        "MSE = np.sqrt(mean_squared_error(y_test, Reg_predict))\n",
        "print(\"MSE: \"+str(MSE))\n",
        "r2_score = reg.score(x_test,y_test)\n",
        "print(\"Accuracy of model year: \"+str(r2_score*100))"
      ]
    },
    {
      "cell_type": "markdown",
      "metadata": {
        "id": "eDEPSd9o5UKO"
      },
      "source": [
        "# Prediction using origin"
      ]
    },
    {
      "cell_type": "code",
      "execution_count": 51,
      "metadata": {
        "id": "JdAfNEL15i1W"
      },
      "outputs": [
        {
          "name": "stdout",
          "output_type": "stream",
          "text": [
            "The predicted values by this model is:\n",
            "[20.42847839 25.9181367  20.42847839 20.42847839 31.40779501 25.9181367\n",
            " 20.42847839 20.42847839 25.9181367  20.42847839 20.42847839 31.40779501\n",
            " 20.42847839 20.42847839 20.42847839 31.40779501 20.42847839 20.42847839\n",
            " 20.42847839 20.42847839]\n",
            "MSE: 5.918690520405277\n",
            "Accuracy of origin: 28.13747386750127\n"
          ]
        },
        {
          "data": {
            "image/png": "[encoded data removed]",
            "text/plain": [
              "<Figure size 640x480 with 1 Axes>"
            ]
          },
          "metadata": {},
          "output_type": "display_data"
        }
      ],
      "source": [
        "\n",
        "x_train,x_test,y_train,y_test = train_test_split(data[['origin']],actual_mpg,test_size = 0.05,random_state =500)\n",
        "reg = LinearRegression().fit(x_train, y_train)\n",
        "r2_score_train = reg.score(x_train, y_train)\n",
        "Reg_predict =reg.predict(x_test)\n",
        "plt.scatter(x_train,y_train)\n",
        "plt.plot(x_test,Reg_predict)\n",
        "print(\"The predicted values by this model is:\")\n",
        "print(Reg_predict)\n",
        "MSE = np.sqrt(mean_squared_error(y_test, Reg_predict))\n",
        "print(\"MSE: \"+str(MSE))\n",
        "r2_score = reg.score(x_test,y_test)\n",
        "print(\"Accuracy of origin: \"+str(r2_score*100))"
      ]
    },
    {
      "cell_type": "markdown",
      "metadata": {
        "id": "eQkLp_3T5XkY"
      },
      "source": [
        "# Prediction using displacement"
      ]
    },
    {
      "cell_type": "code",
      "execution_count": 52,
      "metadata": {
        "id": "NIrwp2q05iCu"
      },
      "outputs": [
        {
          "name": "stdout",
          "output_type": "stream",
          "text": [
            "The predicted values by this model is:\n",
            "[15.91944468 29.34283497 26.73104409 10.93882023 29.34283497 29.34283497\n",
            " 15.91944468 28.85692038 28.73544174 15.91944468 13.97578636 28.67470242\n",
            " 10.93882023 16.89127384 20.04971861 28.00656987 10.93882023 26.06291155\n",
            " 20.04971861 16.58757723]\n",
            "MSE: 3.1871438312563525\n",
            "Accuracy of displacement: 79.16207158761152\n"
          ]
        },
        {
          "data": {
            "image/png": "[encoded data removed]",
            "text/plain": [
              "<Figure size 640x480 with 1 Axes>"
            ]
          },
          "metadata": {},
          "output_type": "display_data"
        }
      ],
      "source": [
        "\n",
        "x_train,x_test,y_train,y_test = train_test_split(data[['displacement']],actual_mpg,test_size = 0.05,random_state =500)\n",
        "reg = LinearRegression().fit(x_train, y_train)\n",
        "r2_score_train = reg.score(x_train, y_train)\n",
        "Reg_predict =reg.predict(x_test)\n",
        "plt.scatter(x_train,y_train)\n",
        "plt.plot(x_test,Reg_predict)\n",
        "print(\"The predicted values by this model is:\")\n",
        "print(Reg_predict)\n",
        "MSE = np.sqrt(mean_squared_error(y_test, Reg_predict))\n",
        "print(\"MSE: \"+str(MSE))\n",
        "r2_score = reg.score(x_test,y_test)\n",
        "print(\"Accuracy of displacement: \"+str(r2_score*100))"
      ]
    },
    {
      "cell_type": "markdown",
      "metadata": {
        "id": "3fu6I5Yd5cJS"
      },
      "source": [
        "# Prediction using Acceleration"
      ]
    },
    {
      "cell_type": "code",
      "execution_count": null,
      "metadata": {
        "id": "OIxDePyH5gyt"
      },
      "outputs": [
        {
          "name": "stdout",
          "output_type": "stream",
          "text": [
            "The predicted values by this model is:\n",
            "[19.95864629 23.81423022 23.81423022 19.95864629 26.61829125 22.29536382\n",
            " 21.36067681 22.76270733 23.46372259 20.77649743 19.95864629 24.98258898\n",
            " 19.37446691 20.30915392 24.63208135 25.21626074 16.45357    24.51524548\n",
            " 26.3846195  19.37446691]\n",
            "MSE: 5.942347293702054\n",
            "Accuracy of acceleration: 27.561862430856156\n"
          ]
        },
        {
          "data": {
            "image/png": "[encoded data removed]",
            "text/plain": [
              "<Figure size 640x480 with 1 Axes>"
            ]
          },
          "metadata": {},
          "output_type": "display_data"
        }
      ],
      "source": [
        "\n",
        "x_train,x_test,y_train,y_test = train_test_split(data[['acceleration']],actual_mpg,test_size = 0.05,random_state =500)\n",
        "reg = LinearRegression().fit(x_train, y_train)\n",
        "r2_score_train = reg.score(x_train, y_train)\n",
        "Reg_predict =reg.predict(x_test)\n",
        "plt.scatter(x_train,y_train)\n",
        "plt.plot(x_test,Reg_predict)\n",
        "print(\"The predicted values by this model is:\")\n",
        "print(Reg_predict)\n",
        "MSE = np.sqrt(mean_squared_error(y_test, Reg_predict))\n",
        "print(\"MSE: \"+str(MSE))\n",
        "r2_score = reg.score(x_test,y_test)\n",
        "print(\"Accuracy of acceleration: \"+str(r2_score*100))"
      ]
    },
    {
      "cell_type": "code",
      "execution_count": 53,
      "metadata": {},
      "outputs": [
        {
          "name": "stdout",
          "output_type": "stream",
          "text": [
            "The predicted values by this model is:\n",
            "[15.97809981 29.39430126 26.75553082 10.94602595 29.28822761 29.45175782\n",
            " 15.92506298 28.94314484 28.79389292 15.94716166 14.01436367 28.67506961\n",
            " 10.96812462 16.94670867 19.97424969 27.99119584 11.07861801 26.05397811\n",
            " 19.90795366 16.67523278]\n",
            "MSE: 3.150402470559167\n",
            "Accuracy: 79.63974118151582\n"
          ]
        }
      ],
      "source": [
        "\n",
        "x_train,x_test,y_train,y_test = train_test_split(data[['acceleration','displacement']],actual_mpg,test_size = 0.05,random_state =500)\n",
        "reg = LinearRegression().fit(x_train, y_train)\n",
        "r2_score_train = reg.score(x_train, y_train)\n",
        "Reg_predict =reg.predict(x_test)\n",
        "\n",
        "print(\"The predicted values by this model is:\")\n",
        "print(Reg_predict)\n",
        "MSE = np.sqrt(mean_squared_error(y_test, Reg_predict))\n",
        "print(\"MSE: \"+str(MSE))\n",
        "r2_score = reg.score(x_test,y_test)\n",
        "print(\"Accuracy: \"+str(r2_score*100))"
      ]
    },
    {
      "cell_type": "code",
      "execution_count": 54,
      "metadata": {},
      "outputs": [
        {
          "name": "stdout",
          "output_type": "stream",
          "text": [
            "The predicted values by this model is:\n",
            "[18.03378616 27.8877888  24.76004804 16.99120591 26.61891414 20.62542149\n",
            " 23.13354021 28.23329426 23.48510953 23.7888567  18.03378616 29.70489659\n",
            " 16.60394214 23.47904568 21.13189632 23.60432059 15.71020355 29.39508557\n",
            " 22.29368763 14.51878164]\n",
            "MSE: 4.281333040639532\n",
            "Accuracy: 62.39814757211868\n"
          ]
        }
      ],
      "source": [
        "\n",
        "x_train,x_test,y_train,y_test = train_test_split(data[['acceleration','model year']],actual_mpg,test_size = 0.05,random_state =500)\n",
        "reg = LinearRegression().fit(x_train, y_train)\n",
        "r2_score_train = reg.score(x_train, y_train)\n",
        "Reg_predict =reg.predict(x_test)\n",
        "print(\"The predicted values by this model is:\")\n",
        "print(Reg_predict)\n",
        "MSE = np.sqrt(mean_squared_error(y_test, Reg_predict))\n",
        "print(\"MSE: \"+str(MSE))\n",
        "r2_score = reg.score(x_test,y_test)\n",
        "print(\"Accuracy: \"+str(r2_score*100))"
      ]
    }
  ],
  "metadata": {
    "colab": {
      "collapsed_sections": [],
      "name": "Automobile MPG prediction.ipynb",
      "provenance": []
    },
    "kernelspec": {
      "display_name": "Python 3.10.4 64-bit",
      "language": "python",
      "name": "python3"
    },
    "language_info": {
      "codemirror_mode": {
        "name": "ipython",
        "version": 3
      },
      "file_extension": ".py",
      "mimetype": "text/x-python",
      "name": "python",
      "nbconvert_exporter": "python",
      "pygments_lexer": "ipython3",
      "version": "3.10.4"
    },
    "vscode": {
      "interpreter": {
        "hash": "4138f935d9796d9ab8f9822a7c360ee55822a611d46da6566bf34cb63e909b7c"
      }
    }
  },
  "nbformat": 4,
  "nbformat_minor": 0
}
